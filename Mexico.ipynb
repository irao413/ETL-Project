{
 "cells": [
  {
   "cell_type": "code",
   "execution_count": 1,
   "metadata": {},
   "outputs": [],
   "source": [
    "import requests\n",
    "from bs4 import BeautifulSoup\n",
    "import urllib.request\n",
    "import pandas as pd\n",
    "import requests\n",
    "import csv\n",
    "import numpy as np\n",
    "pd.set_option('display.max_columns', None)\n",
    "# importss above"
   ]
  },
  {
   "cell_type": "code",
   "execution_count": 2,
   "metadata": {},
   "outputs": [],
   "source": [
    "newvariablesMexB = pd.read_csv('MexBeerIDs.csv')\n",
    "newvariablesMexB = pd.DataFrame(newvariablesMexB)\n",
    "newvariablesMexB = newvariablesMexB.drop(\"Unnamed: 0\", axis=1, inplace = False)"
   ]
  },
  {
   "cell_type": "code",
   "execution_count": 3,
   "metadata": {},
   "outputs": [
    {
     "data": {
      "text/html": [
       "<div>\n",
       "<style scoped>\n",
       "    .dataframe tbody tr th:only-of-type {\n",
       "        vertical-align: middle;\n",
       "    }\n",
       "\n",
       "    .dataframe tbody tr th {\n",
       "        vertical-align: top;\n",
       "    }\n",
       "\n",
       "    .dataframe thead th {\n",
       "        text-align: right;\n",
       "    }\n",
       "</style>\n",
       "<table border=\"1\" class=\"dataframe\">\n",
       "  <thead>\n",
       "    <tr style=\"text-align: right;\">\n",
       "      <th></th>\n",
       "      <th>ID</th>\n",
       "      <th>Form</th>\n",
       "    </tr>\n",
       "  </thead>\n",
       "  <tbody>\n",
       "    <tr>\n",
       "      <th>0</th>\n",
       "      <td>2612929</td>\n",
       "      <td>Stone Enjoy By 4.20</td>\n",
       "    </tr>\n",
       "    <tr>\n",
       "      <th>1</th>\n",
       "      <td>2605314</td>\n",
       "      <td>Stone Enjoy By 4.20</td>\n",
       "    </tr>\n",
       "    <tr>\n",
       "      <th>2</th>\n",
       "      <td>2605313</td>\n",
       "      <td>Stone Enjoy By 4.20</td>\n",
       "    </tr>\n",
       "    <tr>\n",
       "      <th>3</th>\n",
       "      <td>2605312</td>\n",
       "      <td>Stone Enjoy By 4.20</td>\n",
       "    </tr>\n",
       "    <tr>\n",
       "      <th>4</th>\n",
       "      <td>2589456</td>\n",
       "      <td>Stone Audit</td>\n",
       "    </tr>\n",
       "    <tr>\n",
       "      <th>...</th>\n",
       "      <td>...</td>\n",
       "      <td>...</td>\n",
       "    </tr>\n",
       "    <tr>\n",
       "      <th>172</th>\n",
       "      <td>2291995</td>\n",
       "      <td>Pre Screen</td>\n",
       "    </tr>\n",
       "    <tr>\n",
       "      <th>173</th>\n",
       "      <td>2291901</td>\n",
       "      <td>Pre Screen</td>\n",
       "    </tr>\n",
       "    <tr>\n",
       "      <th>174</th>\n",
       "      <td>2291772</td>\n",
       "      <td>Pre Screen</td>\n",
       "    </tr>\n",
       "    <tr>\n",
       "      <th>175</th>\n",
       "      <td>2289870</td>\n",
       "      <td>Pre Screen</td>\n",
       "    </tr>\n",
       "    <tr>\n",
       "      <th>176</th>\n",
       "      <td>2289808</td>\n",
       "      <td>Pre Screen</td>\n",
       "    </tr>\n",
       "  </tbody>\n",
       "</table>\n",
       "<p>177 rows × 2 columns</p>\n",
       "</div>"
      ],
      "text/plain": [
       "          ID                 Form\n",
       "0    2612929  Stone Enjoy By 4.20\n",
       "1    2605314  Stone Enjoy By 4.20\n",
       "2    2605313  Stone Enjoy By 4.20\n",
       "3    2605312  Stone Enjoy By 4.20\n",
       "4    2589456          Stone Audit\n",
       "..       ...                  ...\n",
       "172  2291995           Pre Screen\n",
       "173  2291901           Pre Screen\n",
       "174  2291772           Pre Screen\n",
       "175  2289870           Pre Screen\n",
       "176  2289808           Pre Screen\n",
       "\n",
       "[177 rows x 2 columns]"
      ]
     },
     "execution_count": 3,
     "metadata": {},
     "output_type": "execute_result"
    }
   ],
   "source": [
    "newvariablesMexB"
   ]
  },
  {
   "cell_type": "code",
   "execution_count": 4,
   "metadata": {},
   "outputs": [],
   "source": [
    "for value in newvariablesMexB['ID']:\n",
    "    change = {value: \"/submissions/\" + str(value) + \"/webview\"}\n",
    "    newvariablesMexB.replace(change, inplace = True)\n",
    "    newvariablesMexB.dropna(how ='all', inplace = True)"
   ]
  },
  {
   "cell_type": "code",
   "execution_count": 5,
   "metadata": {},
   "outputs": [
    {
     "data": {
      "text/html": [
       "<div>\n",
       "<style scoped>\n",
       "    .dataframe tbody tr th:only-of-type {\n",
       "        vertical-align: middle;\n",
       "    }\n",
       "\n",
       "    .dataframe tbody tr th {\n",
       "        vertical-align: top;\n",
       "    }\n",
       "\n",
       "    .dataframe thead th {\n",
       "        text-align: right;\n",
       "    }\n",
       "</style>\n",
       "<table border=\"1\" class=\"dataframe\">\n",
       "  <thead>\n",
       "    <tr style=\"text-align: right;\">\n",
       "      <th></th>\n",
       "      <th>ID</th>\n",
       "      <th>Form</th>\n",
       "    </tr>\n",
       "  </thead>\n",
       "  <tbody>\n",
       "    <tr>\n",
       "      <th>0</th>\n",
       "      <td>/submissions/2612929/webview</td>\n",
       "      <td>Stone Enjoy By 4.20</td>\n",
       "    </tr>\n",
       "    <tr>\n",
       "      <th>1</th>\n",
       "      <td>/submissions/2605314/webview</td>\n",
       "      <td>Stone Enjoy By 4.20</td>\n",
       "    </tr>\n",
       "    <tr>\n",
       "      <th>2</th>\n",
       "      <td>/submissions/2605313/webview</td>\n",
       "      <td>Stone Enjoy By 4.20</td>\n",
       "    </tr>\n",
       "    <tr>\n",
       "      <th>3</th>\n",
       "      <td>/submissions/2605312/webview</td>\n",
       "      <td>Stone Enjoy By 4.20</td>\n",
       "    </tr>\n",
       "    <tr>\n",
       "      <th>4</th>\n",
       "      <td>/submissions/2589456/webview</td>\n",
       "      <td>Stone Audit</td>\n",
       "    </tr>\n",
       "    <tr>\n",
       "      <th>...</th>\n",
       "      <td>...</td>\n",
       "      <td>...</td>\n",
       "    </tr>\n",
       "    <tr>\n",
       "      <th>172</th>\n",
       "      <td>/submissions/2291995/webview</td>\n",
       "      <td>Pre Screen</td>\n",
       "    </tr>\n",
       "    <tr>\n",
       "      <th>173</th>\n",
       "      <td>/submissions/2291901/webview</td>\n",
       "      <td>Pre Screen</td>\n",
       "    </tr>\n",
       "    <tr>\n",
       "      <th>174</th>\n",
       "      <td>/submissions/2291772/webview</td>\n",
       "      <td>Pre Screen</td>\n",
       "    </tr>\n",
       "    <tr>\n",
       "      <th>175</th>\n",
       "      <td>/submissions/2289870/webview</td>\n",
       "      <td>Pre Screen</td>\n",
       "    </tr>\n",
       "    <tr>\n",
       "      <th>176</th>\n",
       "      <td>/submissions/2289808/webview</td>\n",
       "      <td>Pre Screen</td>\n",
       "    </tr>\n",
       "  </tbody>\n",
       "</table>\n",
       "<p>177 rows × 2 columns</p>\n",
       "</div>"
      ],
      "text/plain": [
       "                               ID                 Form\n",
       "0    /submissions/2612929/webview  Stone Enjoy By 4.20\n",
       "1    /submissions/2605314/webview  Stone Enjoy By 4.20\n",
       "2    /submissions/2605313/webview  Stone Enjoy By 4.20\n",
       "3    /submissions/2605312/webview  Stone Enjoy By 4.20\n",
       "4    /submissions/2589456/webview          Stone Audit\n",
       "..                            ...                  ...\n",
       "172  /submissions/2291995/webview           Pre Screen\n",
       "173  /submissions/2291901/webview           Pre Screen\n",
       "174  /submissions/2291772/webview           Pre Screen\n",
       "175  /submissions/2289870/webview           Pre Screen\n",
       "176  /submissions/2289808/webview           Pre Screen\n",
       "\n",
       "[177 rows x 2 columns]"
      ]
     },
     "execution_count": 5,
     "metadata": {},
     "output_type": "execute_result"
    }
   ],
   "source": [
    "newvariablesMexB"
   ]
  },
  {
   "cell_type": "code",
   "execution_count": 6,
   "metadata": {},
   "outputs": [],
   "source": [
    "headers = {\n",
    "    'User-Agent': 'Mozilla/5.0 (Windows NT 10.0; Win64; x64) AppleWebKit/537.36 (KHTML, like Gecko) Chrome/81.0.4044.122 Safari/537.36'\n",
    "}\n",
    "\n",
    "login_data = {\n",
    "    'utf8': '✓',\n",
    "    'user[email]': 'scottys@maxianet.com',\n",
    "    'user[password]': '1Sandiego!',\n",
    "    'user[remember_me]': '0'\n",
    "    \n",
    "}"
   ]
  },
  {
   "cell_type": "code",
   "execution_count": 7,
   "metadata": {},
   "outputs": [],
   "source": [
    "lat = {}\n",
    "lng = {}\n",
    "name = {}\n",
    "timedf1 = {}\n",
    "timedf = {}\n",
    "locname = {}"
   ]
  },
  {
   "cell_type": "code",
   "execution_count": null,
   "metadata": {},
   "outputs": [],
   "source": []
  },
  {
   "cell_type": "code",
   "execution_count": 8,
   "metadata": {},
   "outputs": [],
   "source": [
    "with requests.Session() as s:\n",
    "    url = 'https://maxianetmex.campodata.com/sessions'\n",
    "    r = s.get(url, headers=headers)\n",
    "    soup = BeautifulSoup(r.content, 'html5lib')\n",
    "    login_data['authenticity_token'] = soup.find('input', attrs={'name': 'authenticity_token'})['value']\n",
    "    for weburls,weburl in zip(newvariablesMexB['ID'],newvariablesMexB['Form']):\n",
    "        if weburl == 'Stone Enjoy By 4.20': \n",
    "            login_data['user[redirect_to]'] = f'{weburls}'\n",
    "            r2 = s.post(url, data=login_data,headers=headers)\n",
    "            soup2 = BeautifulSoup(r2.content, 'html5lib')\n",
    "            data  = soup2.find(\"script\")\n",
    "            data2 = data.string\n",
    "            res = data2.partition('lat')[2]\n",
    "            reslng =data2.partition('lng')[2]\n",
    "            lat[str(weburls)] = res[2:12]\n",
    "            lng[str(weburls)] = reslng[2:12]\n",
    "            name[str(weburls)] = soup2.find('h5',{'class':'text-secondary'}).text\n",
    "            timedf1 = soup2.find('input',{'class': 'form-control-plaintext bg-panel-tint pl-4 input-lg'})['value'],\n",
    "            timedf[str(weburls)] = soup2.find('input',{'class': 'form-control-plaintext bg-panel-tint pl-4 input-lg'})['value'],\n",
    "            try: locname[str(weburls)] = soup2.find('h3',{'class':'page-heading'}).text\n",
    "            except Exception as exception: pass\n",
    "\n",
    "                    \n",
    "                    \n",
    "\n",
    "    "
   ]
  },
  {
   "cell_type": "code",
   "execution_count": 9,
   "metadata": {},
   "outputs": [
    {
     "name": "stdout",
     "output_type": "stream",
     "text": [
      "{'/submissions/2612929/webview': 'Licores San Quintín ', '/submissions/2605314/webview': 'Bierhalle', '/submissions/2605313/webview': 'Bosinger', '/submissions/2605312/webview': 'Cactus Licores'}\n"
     ]
    }
   ],
   "source": [
    "print(locname)"
   ]
  },
  {
   "cell_type": "code",
   "execution_count": null,
   "metadata": {},
   "outputs": [],
   "source": []
  }
 ],
 "metadata": {
  "kernelspec": {
   "display_name": "Python [conda env:PythonData]",
   "language": "python",
   "name": "conda-env-PythonData-py"
  },
  "language_info": {
   "codemirror_mode": {
    "name": "ipython",
    "version": 3
   },
   "file_extension": ".py",
   "mimetype": "text/x-python",
   "name": "python",
   "nbconvert_exporter": "python",
   "pygments_lexer": "ipython3",
   "version": "3.6.10"
  }
 },
 "nbformat": 4,
 "nbformat_minor": 2
}
